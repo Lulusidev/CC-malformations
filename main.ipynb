{
 "cells": [
  {
   "cell_type": "markdown",
   "metadata": {},
   "source": [
    "# Corte de fatores de risco para malformacoes cardiacas SINAC"
   ]
  },
  {
   "cell_type": "code",
   "execution_count": 1,
   "metadata": {},
   "outputs": [],
   "source": [
    "from pysus import SINASC\n",
    "import pandas as pd\n",
    "import re"
   ]
  },
  {
   "cell_type": "code",
   "execution_count": 2,
   "metadata": {},
   "outputs": [],
   "source": [
    "# Lista de anos desejados\n",
    "sinasc = SINASC().load()\n",
    "#UF = ['AL', 'BA', 'CE', 'MA', 'PB', 'PE', 'PI', 'RN', 'SE']\n",
    "anos = [2021,2022,2023]\n",
    "files = sinasc.get_files(\"DN\", year=anos)"
   ]
  },
  {
   "cell_type": "code",
   "execution_count": 3,
   "metadata": {},
   "outputs": [
    {
     "name": "stderr",
     "output_type": "stream",
     "text": [
      "  0%|          | 0/55 [00:00<?, ?it/s]"
     ]
    },
    {
     "name": "stderr",
     "output_type": "stream",
     "text": [
      "1127918it [00:00, 133862397.19it/s]   \n"
     ]
    }
   ],
   "source": [
    "parquets = sinasc.download(files)\n",
    "dfs = [p.to_dataframe() for p in parquets]\n",
    "df = pd.concat(dfs, ignore_index=True)"
   ]
  },
  {
   "cell_type": "code",
   "execution_count": 4,
   "metadata": {},
   "outputs": [
    {
     "name": "stdout",
     "output_type": "stream",
     "text": [
      "Numero total de Nacidos vivos registrados: 5239566\n"
     ]
    }
   ],
   "source": [
    "#print(df.columns)\n",
    "colunas_numericas = [\"TPNASCASSI\",\"IDADEMAE\", \"ESTCIVMAE\", \"GRAVIDEZ\",\"PESO\", \"SEMAGESTAC\", \"CONSULTAS\",\"PARTO\",\"CODOCUPMAE\",\"QTDFILVIVO\",\"QTDFILMORT\"]\n",
    "for col in colunas_numericas:\n",
    "    df[col] = pd.to_numeric(df[col], errors='coerce')\n",
    "\n",
    "print(f\"Numero total de Nacidos vivos registrados: {len(df)}\")"
   ]
  },
  {
   "cell_type": "markdown",
   "metadata": {},
   "source": [
    "## Filtrar df"
   ]
  },
  {
   "cell_type": "code",
   "execution_count": 5,
   "metadata": {},
   "outputs": [],
   "source": [
    "variaveis = [\"IDADEMAE\", \"ESTCIVMAE\", \"GRAVIDEZ\",\"PESO\", \"SEMAGESTAC\", \"CONSULTAS\", \"CODANOMAL\",\"ESCMAE2010\",\"PARTO\",\"CODOCUPMAE\",\"SEXO\",\"QTDFILVIVO\",\"QTDFILMORT\"]\n",
    "df_filtrado_variaveis = df[variaveis]"
   ]
  },
  {
   "cell_type": "code",
   "execution_count": 6,
   "metadata": {},
   "outputs": [],
   "source": [
    "df =0"
   ]
  },
  {
   "cell_type": "code",
   "execution_count": 7,
   "metadata": {},
   "outputs": [],
   "source": [
    "def filter_ignored_data(df):\n",
    "    \"\"\"\n",
    "    Remove do DataFrame as linhas onde alguma das variáveis\n",
    "    ESTCIVMAE, GRAVIDEZ, ESCMAE2010 ou PARTO tenha o valor 9.\n",
    "    \n",
    "    Parâmetros:\n",
    "      df: DataFrame contendo as colunas mencionadas.\n",
    "      \n",
    "    Retorna:\n",
    "      DataFrame filtrado.\n",
    "    \"\"\"\n",
    "    mask = (\n",
    "        (df['ESTCIVMAE'] != 9) &\n",
    "        (df['GRAVIDEZ'] != 9) &\n",
    "        (df['ESCMAE2010'] != 9) &\n",
    "        (df['PARTO'] != 9) &\n",
    "        (df['SEXO'] != 0)&\n",
    "        (df['CONSULTAS'] !=9)&\n",
    "        (df['QTDFILMORT'] != 99)&\n",
    "        (df['CONSULTAS'] !=9)\n",
    "        )\n",
    "    df_filtrado = df[mask].copy()\n",
    "    return df_filtrado\n"
   ]
  },
  {
   "cell_type": "code",
   "execution_count": 8,
   "metadata": {},
   "outputs": [
    {
     "name": "stdout",
     "output_type": "stream",
     "text": [
      "Numero total de Nacidos vivos registrados depois da exclusao de dados faltantes das variaveis SEXO, Tipo de PARTO, GRAVIDEZ,Consultas, EStado Civil e ESCMAE2010: 5012623\n"
     ]
    }
   ],
   "source": [
    "df_filtrado_variaveis = filter_ignored_data(df_filtrado_variaveis)\n",
    "\n",
    "print(f\"Numero total de Nacidos vivos registrados depois da exclusao de dados faltantes das variaveis SEXO, Tipo de PARTO, GRAVIDEZ,Consultas, EStado Civil e ESCMAE2010: {len(df_filtrado_variaveis)}\")"
   ]
  },
  {
   "cell_type": "markdown",
   "metadata": {},
   "source": [
    "#### Gerando Df da amostra"
   ]
  },
  {
   "cell_type": "code",
   "execution_count": 9,
   "metadata": {},
   "outputs": [],
   "source": [
    "codigos_cid = [\n",
    "    \"Q03\", #Q030 - hidrocefalia congenita\n",
    "]"
   ]
  },
  {
   "cell_type": "code",
   "execution_count": 10,
   "metadata": {},
   "outputs": [
    {
     "name": "stdout",
     "output_type": "stream",
     "text": [
      "Distribuição de CASO:\n",
      "CASO\n",
      "0    4969723\n",
      "1       1047\n",
      "Name: count, dtype: int64\n"
     ]
    }
   ],
   "source": [
    "df_filtrado_variaveis.loc[:, 'CODANOMAL'] = (\n",
    "    df_filtrado_variaveis['CODANOMAL']\n",
    "    .astype(str)\n",
    "    .str.strip()\n",
    "    .str.upper()\n",
    ")\n",
    "\n",
    "# Exclua registros com dados ausentes em variáveis essenciais\n",
    "df_filtrado_variaveis = df_filtrado_variaveis.dropna(subset=['IDADEMAE','SEMAGESTAC'])\n",
    "\n",
    "# Crie uma expressão regular para identificar códigos cardíacos em qualquer posição\n",
    "regex_cid = '(?:' + '|'.join(codigos_cid) + ')'\n",
    "\n",
    "# Máscaras para identificar:\n",
    "# - Registros sem anomalia: CODANOMAL é string vazia\n",
    "#mask_sem_anomalia = (df_filtrado_variaveis['CODANOMAL'] == '')\n",
    "\n",
    "# - Registros com malformação cardíaca: CODANOMAL inicia com um dos códigos definidos CASOS\n",
    "mask_cardiacas = df_filtrado_variaveis['CODANOMAL'].str.contains(regex_cid, na=False)\n",
    "\n",
    "# Crie o df_model incluindo todos os registros com informação de anomalia\n",
    "df_model = df_filtrado_variaveis.copy()\n",
    "\n",
    "# Crie a variável binária 'CARDIAC': 1 para malformação cardíaca, 0 caso contrário\n",
    "df_model['CASO'] = 0\n",
    "df_model.loc[mask_cardiacas, 'CASO'] = 1\n",
    "\n",
    "# Crie a variável 'OTHER_MALF' para outras malformações (não cardíacas):\n",
    "# Será 1 se houver algum código (não vazio) E esse código NÃO for de malformação cardíaca\n",
    "#mask_other = (df_model['CODANOMAL'] != '') & (~mask_cardiacas)\n",
    "\n",
    "#df_model['OTHER_MALF'] = 0\n",
    "#df_model.loc[mask_other, 'OTHER_MALF'] = 1\n",
    "\n",
    "\n",
    "\n",
    "# Aplicando as funções no DataFrame\n",
    "#df_model['CARDIAC'] = df_model['CODANOMAL'].apply(lambda x: 1 if tem_cardiac(x, codigos_cid) else 0)\n",
    "#df_model['OTHER_MALF'] = df_model['CODANOMAL'].apply(lambda x: 1 if tem_other(x, codigos_cid) else 0)\n",
    "\n",
    "# Visualize a distribuição das variáveis\n",
    "print(\"Distribuição de CASO:\")\n",
    "print(df_model['CASO'].value_counts())"
   ]
  },
  {
   "cell_type": "code",
   "execution_count": 13,
   "metadata": {},
   "outputs": [
    {
     "name": "stdout",
     "output_type": "stream",
     "text": [
      "Distribuição de CASO:\n",
      "CASO\n",
      "0    4639913\n",
      "1        282\n",
      "Name: count, dtype: int64\n",
      "\n",
      "Distribuição de OTHER_MALF:\n",
      "OTHER_MALF\n",
      "0    4598703\n",
      "1      41492\n",
      "Name: count, dtype: int64\n"
     ]
    }
   ],
   "source": [
    "df_filtrado_variaveis.loc[:, 'CODANOMAL'] = (\n",
    "    df_filtrado_variaveis['CODANOMAL']\n",
    "    .astype(str)\n",
    "    .str.strip()\n",
    "    .str.upper()\n",
    "    .replace(['NAN', 'NaN', 'nan'], '')  # Remove representações de NaN\n",
    ")\n",
    "\n",
    "# 3. Função para extrair códigos válidos de uma string concatenada\n",
    "def extrair_codigos(concatenado):\n",
    "    # Regex para encontrar códigos CID-10 (ex: Q20, Q21, etc.)\n",
    "    padrao_cid = r'Q\\d{3}'  # Q seguido de 2 dígitos\n",
    "    return re.findall(padrao_cid, concatenado)\n",
    "\n",
    "# 4. Aplicar a função para extrair códigos e verificar se são cardíacos\n",
    "mask_cardiacas = df_filtrado_variaveis['CODANOMAL'].apply(\n",
    "    lambda s: any(codigo in codigos_cid for codigo in extrair_codigos(s))\n",
    ")\n",
    "\n",
    "# 5. Máscara para registros sem anomalia\n",
    "mask_sem_anomalia = (df_filtrado_variaveis['CODANOMAL'] == '')\n",
    "\n",
    "# 6. Máscara para outras malformações (não cardíacas e não vazias)\n",
    "mask_other = (~mask_sem_anomalia) & (~mask_cardiacas)\n",
    "\n",
    "# 7. Criar as variáveis no DataFrame\n",
    "df_model = df_filtrado_variaveis.copy()\n",
    "df_model['CASO'] = 0\n",
    "df_model.loc[mask_cardiacas, 'CASO'] = 1\n",
    "\n",
    "df_model['OTHER_MALF'] = 0\n",
    "df_model.loc[mask_other, 'OTHER_MALF'] = 1\n",
    "\n",
    "# 8. Visualizar a distribuição\n",
    "print(\"Distribuição de CASO:\")\n",
    "print(df_model['CASO'].value_counts())\n",
    "print(\"\\nDistribuição de OTHER_MALF:\")\n",
    "print(df_model['OTHER_MALF'].value_counts())"
   ]
  },
  {
   "cell_type": "code",
   "execution_count": 9,
   "metadata": {},
   "outputs": [
    {
     "name": "stdout",
     "output_type": "stream",
     "text": [
      "CASO\n",
      "0    5011575\n",
      "1       1048\n",
      "Name: count, dtype: int64\n"
     ]
    }
   ],
   "source": [
    "import re\n",
    "\n",
    "# cópia e padronização\n",
    "df = df_filtrado_variaveis.copy()\n",
    "df['CODANOMAL'] = (\n",
    "    df['CODANOMAL']\n",
    "    .fillna('')\n",
    "    .astype(str)\n",
    "    .str.strip()\n",
    "    .str.upper()\n",
    ")\n",
    "\n",
    "# regex para extrair códigos ICD: letra + 2 dígitos + opcional . + dígitos\n",
    "pattern = r'[A-Z]\\d{2}(?:\\.\\d+)?'\n",
    "\n",
    "def extract_codes(s):\n",
    "    # devolve lista de substrings que casam o padrão\n",
    "    return re.findall(pattern, s)\n",
    "\n",
    "def is_Q03_case(s):\n",
    "    codes = extract_codes(s)\n",
    "    # verifica se algum código começa exatamente com 'Q03'\n",
    "    return any(code.startswith('Q03') for code in codes)\n",
    "\n",
    "# aplica e cria variável binária\n",
    "df['CASO'] = df['CODANOMAL'].apply(is_Q03_case).astype(int)\n",
    "\n",
    "# distribuições\n",
    "print(df['CASO'].value_counts())"
   ]
  },
  {
   "cell_type": "code",
   "execution_count": 11,
   "metadata": {},
   "outputs": [],
   "source": [
    "cases = df_model[df_model['CASO'] == 1]"
   ]
  },
  {
   "cell_type": "code",
   "execution_count": 19,
   "metadata": {},
   "outputs": [],
   "source": [
    "def robust_frequency_matching(df, ratio=4, category_bins=None, return_summary=True):\n",
    "    \"\"\"\n",
    "    Realiza matching por frequência de forma robusta utilizando as variáveis 'IDADEMAE' e 'SEMAGESTAC'.\n",
    "    \n",
    "    Parâmetros:\n",
    "      - df: DataFrame que contenha as colunas:\n",
    "            'CARDIAC' (1 para caso e 0 para controle),\n",
    "            'IDADEMAE' e 'SEMAGESTAC'.\n",
    "      - ratio: número desejado de controles por caso.\n",
    "      - category_bins: dicionário com os limites dos bins para as variáveis.\n",
    "           Exemplo: {'IDADEMAE': [10, 20, 30, 40, 50, 60], 'SEMAGESTAC': [28, 32, 37, 42, 50]}\n",
    "      - return_summary: se True, a função retorna também um DataFrame resumo do matching por grupo.\n",
    "      \n",
    "    Retorna:\n",
    "      - matched_df: DataFrame contendo os casos e os controles pareados.\n",
    "      - summary_df (opcional): DataFrame com resumo do desempenho do matching em cada grupo.\n",
    "    \"\"\"\n",
    "\n",
    "    df = df.copy()\n",
    "    \n",
    "    # Cria as colunas categóricas com base nos bins fornecidos\n",
    "    if category_bins is not None:\n",
    "        df['IDADEMAE_CAT'] = pd.cut(df['IDADEMAE'], bins=category_bins['IDADEMAE'], include_lowest=True)\n",
    "        df['SEMAGESTAC_CAT'] = pd.cut(df['SEMAGESTAC'], bins=category_bins['SEMAGESTAC'], include_lowest=True)\n",
    "    else:\n",
    "        df['IDADEMAE_CAT'] = df['IDADEMAE']\n",
    "        df['SEMAGESTAC_CAT'] = df['SEMAGESTAC']\n",
    "\n",
    "    \n",
    "    df = df.dropna(subset=['IDADEMAE_CAT', 'SEMAGESTAC_CAT'])\n",
    "    \n",
    "    # Separa casos e controles\n",
    "    cases = df[df['CASO'] == 1].copy()\n",
    "    controls = df[df['CASO'] == 0].copy()\n",
    "    \n",
    "    grouping_columns = ['IDADEMAE_CAT', 'SEMAGESTAC_CAT']\n",
    "    # Agrupa os casos pelas combinações de categorias presentes nos dados\n",
    "    case_groups = cases.groupby(grouping_columns, observed=True)\n",
    "    \n",
    "    selected_controls_indices = []\n",
    "    summary = []  # Para armazenar estatísticas de matching por grupo\n",
    "    \n",
    "    for group_keys, group_cases in case_groups:\n",
    "        # Seleciona os controles que pertencem ao mesmo grupo\n",
    "        group_controls = controls[\n",
    "            (controls['IDADEMAE_CAT'] == group_keys[0]) & \n",
    "            (controls['SEMAGESTAC_CAT'] == group_keys[1])\n",
    "        ]\n",
    "        \n",
    "        n_cases = len(group_cases)\n",
    "        required_controls = ratio * n_cases\n",
    "        \n",
    "        if len(group_controls) >= required_controls:\n",
    "            selected = group_controls.sample(n=required_controls, random_state=42)\n",
    "        else:\n",
    "            print(f\"Aviso: Grupo {group_keys} - necessários {required_controls} controles, disponíveis {len(group_controls)}.\")\n",
    "            selected = group_controls\n",
    "        \n",
    "        achieved_ratio = (len(selected) / n_cases) if n_cases > 0 else np.nan\n",
    "        \n",
    "        # Registra o resumo do grupo\n",
    "        summary.append({\n",
    "            'grupo': group_keys,\n",
    "            'n_cases': n_cases,\n",
    "            'required_controls': required_controls,\n",
    "            'available_controls': len(group_controls),\n",
    "            'selected_controls': len(selected),\n",
    "            'achieved_ratio': achieved_ratio\n",
    "        })\n",
    "        \n",
    "        selected_controls_indices.extend(selected.index.tolist())\n",
    "        # Remove os controles já selecionados para evitar reuso\n",
    "        controls = controls.drop(selected.index)\n",
    "    \n",
    "    matched_controls = df.loc[selected_controls_indices]\n",
    "    matched_df = pd.concat([cases, matched_controls])\n",
    "    \n",
    "    if return_summary:\n",
    "        summary_df = pd.DataFrame(summary)\n",
    "        return matched_df, summary_df\n",
    "    else:\n",
    "        return matched_df"
   ]
  },
  {
   "cell_type": "code",
   "execution_count": 12,
   "metadata": {},
   "outputs": [],
   "source": [
    "import pandas as pd\n",
    "import numpy as np\n",
    "import warnings\n",
    "from typing import Optional, Dict, Tuple, Union\n",
    "\n",
    "def robust_frequency_matching(\n",
    "    df: pd.DataFrame,\n",
    "    ratio: int = 4,\n",
    "    category_bins: Optional[Dict[str, list]] = None,\n",
    "    return_summary: bool = False,\n",
    "    random_state: Optional[int] = 42\n",
    ") -> Union[pd.DataFrame, Tuple[pd.DataFrame, pd.DataFrame]]:\n",
    "    \"\"\"\n",
    "    Realiza matching por frequência de forma robusta utilizando as variáveis 'IDADEMAE' e 'SEMAGESTAC'.\n",
    "    \n",
    "    Parâmetros:\n",
    "      - df: DataFrame que contenha as colunas:\n",
    "            'CARDIAC' (1 para caso e 0 para controle),\n",
    "            'IDADEMAE' e 'SEMAGESTAC'.\n",
    "      - ratio: Número desejado de controles por caso.\n",
    "      - category_bins: Dicionário com os limites dos bins para as variáveis.\n",
    "           Exemplo: {'IDADEMAE': [10, 20, 30, 40, 50, 60], 'SEMAGESTAC': [28, 32, 37, 42, 50]}\n",
    "      - return_summary: Se True, retorna também um DataFrame resumo do matching por grupo.\n",
    "      - random_state: Semente para a amostragem aleatória.\n",
    "      \n",
    "    Retorna:\n",
    "      - matched_df: DataFrame contendo os casos e os controles pareados.\n",
    "      - summary_df (opcional): DataFrame com resumo do desempenho do matching em cada grupo.\n",
    "    \"\"\"\n",
    "    # Verifica se as colunas necessárias estão presentes\n",
    "    required_cols = {\"CASO\", \"IDADEMAE\", \"SEMAGESTAC\"}\n",
    "    missing_cols = required_cols - set(df.columns)\n",
    "    if missing_cols:\n",
    "        raise ValueError(f\"O DataFrame está faltando as seguintes colunas: {missing_cols}\")\n",
    "\n",
    "    df = df.copy()\n",
    "\n",
    "    # Cria as colunas categóricas com base nos bins fornecidos\n",
    "    if category_bins is not None:\n",
    "        idade_bins = category_bins.get(\"IDADEMAE\")\n",
    "        semage_bins = category_bins.get(\"SEMAGESTAC\")\n",
    "        if idade_bins is None or semage_bins is None:\n",
    "            raise ValueError(\"O dicionário category_bins deve conter as chaves 'IDADEMAE' e 'SEMAGESTAC'\")\n",
    "        df[\"IDADEMAE_CAT\"] = pd.cut(df[\"IDADEMAE\"], bins=idade_bins, include_lowest=True)\n",
    "        df[\"SEMAGESTAC_CAT\"] = pd.cut(df[\"SEMAGESTAC\"], bins=semage_bins, include_lowest=True)\n",
    "    else:\n",
    "        df[\"IDADEMAE_CAT\"] = df[\"IDADEMAE\"]\n",
    "        df[\"SEMAGESTAC_CAT\"] = df[\"SEMAGESTAC\"]\n",
    "\n",
    "    # Remove linhas com valores ausentes nas variáveis de categoria\n",
    "    df.dropna(subset=[\"IDADEMAE_CAT\", \"SEMAGESTAC_CAT\"], inplace=True)\n",
    "\n",
    "    # Separa casos e controles\n",
    "    cases = df[df[\"CASO\"] == 1].copy()\n",
    "    controls = df[df[\"CASO\"] == 0].copy()\n",
    "\n",
    "    grouping_columns = [\"IDADEMAE_CAT\", \"SEMAGESTAC_CAT\"]\n",
    "\n",
    "    summary_records = []      # Para armazenar o resumo do matching por grupo\n",
    "    selected_controls_indices = []  # Índices dos controles selecionados\n",
    "\n",
    "    # Agrupa os casos pelas combinações de categorias\n",
    "    case_groups = cases.groupby(grouping_columns, observed=True)\n",
    "\n",
    "    for group_keys, group_cases in case_groups:\n",
    "        n_cases = len(group_cases)\n",
    "        required_controls = ratio * n_cases\n",
    "\n",
    "        # Seleciona os controles que pertencem ao mesmo grupo\n",
    "        group_mask = (\n",
    "            (controls[\"IDADEMAE_CAT\"] == group_keys[0]) &\n",
    "            (controls[\"SEMAGESTAC_CAT\"] == group_keys[1])\n",
    "        )\n",
    "        group_controls = controls.loc[group_mask]\n",
    "\n",
    "        if len(group_controls) >= required_controls:\n",
    "            selected = group_controls.sample(n=required_controls, random_state=random_state)\n",
    "        else:\n",
    "            warnings.warn(\n",
    "                f\"Aviso: Grupo {group_keys} - necessários {required_controls} controles, disponíveis {len(group_controls)}.\"\n",
    "            )\n",
    "            selected = group_controls\n",
    "\n",
    "        achieved_ratio = len(selected) / n_cases if n_cases > 0 else np.nan\n",
    "\n",
    "        # Registra as estatísticas do grupo\n",
    "        summary_records.append({\n",
    "            \"grupo\": group_keys,\n",
    "            \"n_cases\": n_cases,\n",
    "            \"required_controls\": required_controls,\n",
    "            \"available_controls\": len(group_controls),\n",
    "            \"selected_controls\": len(selected),\n",
    "            \"achieved_ratio\": achieved_ratio\n",
    "        })\n",
    "\n",
    "        selected_controls_indices.extend(selected.index.tolist())\n",
    "        # Remove os controles já selecionados para evitar reuso\n",
    "        controls = controls.drop(selected.index)\n",
    "\n",
    "    matched_controls = df.loc[selected_controls_indices]\n",
    "    matched_df = pd.concat([cases, matched_controls]).sort_index()\n",
    "\n",
    "    if return_summary:\n",
    "        summary_df = pd.DataFrame(summary_records)\n",
    "        return matched_df, summary_df\n",
    "    else:\n",
    "        return matched_df\n"
   ]
  },
  {
   "cell_type": "code",
   "execution_count": 13,
   "metadata": {},
   "outputs": [],
   "source": [
    "age_bins = [10,20,30,40,50,60]\n",
    "gestation_bins = [22,24,27,31,36,41,60]\n",
    "category_bins = {'IDADEMAE': age_bins, 'SEMAGESTAC': gestation_bins}"
   ]
  },
  {
   "cell_type": "code",
   "execution_count": 14,
   "metadata": {},
   "outputs": [],
   "source": [
    "matched_df_= robust_frequency_matching(df_model, ratio=4, category_bins=category_bins)"
   ]
  },
  {
   "cell_type": "code",
   "execution_count": 15,
   "metadata": {},
   "outputs": [
    {
     "name": "stdout",
     "output_type": "stream",
     "text": [
      "CASO\n",
      "0    4184\n",
      "1    1046\n",
      "Name: count, dtype: int64\n"
     ]
    }
   ],
   "source": [
    "print(matched_df_['CASO'].value_counts())"
   ]
  },
  {
   "cell_type": "code",
   "execution_count": 16,
   "metadata": {},
   "outputs": [
    {
     "data": {
      "text/plain": [
       "5230"
      ]
     },
     "execution_count": 16,
     "metadata": {},
     "output_type": "execute_result"
    }
   ],
   "source": [
    "len(matched_df_)"
   ]
  },
  {
   "cell_type": "code",
   "execution_count": 17,
   "metadata": {},
   "outputs": [
    {
     "name": "stdout",
     "output_type": "stream",
     "text": [
      "CODANOMAL\n",
      "                        4118\n",
      "Q039                     473\n",
      "Q038                      79\n",
      "Q031                      49\n",
      "Q039Q059                  28\n",
      "                        ... \n",
      "Q039Q211Q423Q620           1\n",
      "Q039Q068Q650Q661Q674       1\n",
      "Q039Q040Q173Q210Q212       1\n",
      "Q672Q771                   1\n",
      "Q174Q385Q549               1\n",
      "Name: count, Length: 384, dtype: Int64\n"
     ]
    }
   ],
   "source": [
    "print(matched_df_['CODANOMAL'].value_counts())"
   ]
  },
  {
   "cell_type": "code",
   "execution_count": 18,
   "metadata": {},
   "outputs": [],
   "source": [
    "matched_df_.to_csv(\"data_BR_Match.csv\", encoding='utf-8')"
   ]
  }
 ],
 "metadata": {
  "kernelspec": {
   "display_name": "myenv",
   "language": "python",
   "name": "python3"
  },
  "language_info": {
   "codemirror_mode": {
    "name": "ipython",
    "version": 3
   },
   "file_extension": ".py",
   "mimetype": "text/x-python",
   "name": "python",
   "nbconvert_exporter": "python",
   "pygments_lexer": "ipython3",
   "version": "3.12.3"
  }
 },
 "nbformat": 4,
 "nbformat_minor": 2
}
